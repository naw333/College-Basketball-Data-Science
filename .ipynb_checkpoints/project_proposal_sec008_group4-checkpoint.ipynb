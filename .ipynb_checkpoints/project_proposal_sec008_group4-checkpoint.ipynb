{
 "cells": [
  {
   "cell_type": "code",
   "execution_count": 1,
   "id": "c933c8a4-db20-46bc-a277-315bb6620a03",
   "metadata": {
    "scrolled": true,
    "tags": []
   },
   "outputs": [
    {
     "name": "stderr",
     "output_type": "stream",
     "text": [
      "── \u001b[1mAttaching packages\u001b[22m ─────────────────────────────────────── tidyverse 1.3.2 ──\n",
      "\u001b[32m✔\u001b[39m \u001b[34mggplot2\u001b[39m 3.4.4     \u001b[32m✔\u001b[39m \u001b[34mpurrr  \u001b[39m 1.0.1\n",
      "\u001b[32m✔\u001b[39m \u001b[34mtibble \u001b[39m 3.2.1     \u001b[32m✔\u001b[39m \u001b[34mdplyr  \u001b[39m 1.1.1\n",
      "\u001b[32m✔\u001b[39m \u001b[34mtidyr  \u001b[39m 1.3.0     \u001b[32m✔\u001b[39m \u001b[34mstringr\u001b[39m 1.5.0\n",
      "\u001b[32m✔\u001b[39m \u001b[34mreadr  \u001b[39m 2.1.3     \u001b[32m✔\u001b[39m \u001b[34mforcats\u001b[39m 0.5.2\n",
      "── \u001b[1mConflicts\u001b[22m ────────────────────────────────────────── tidyverse_conflicts() ──\n",
      "\u001b[31m✖\u001b[39m \u001b[34mdplyr\u001b[39m::\u001b[32mfilter()\u001b[39m masks \u001b[34mstats\u001b[39m::filter()\n",
      "\u001b[31m✖\u001b[39m \u001b[34mdplyr\u001b[39m::\u001b[32mlag()\u001b[39m    masks \u001b[34mstats\u001b[39m::lag()\n",
      "── \u001b[1mAttaching packages\u001b[22m ────────────────────────────────────── tidymodels 1.0.0 ──\n",
      "\n",
      "\u001b[32m✔\u001b[39m \u001b[34mbroom       \u001b[39m 1.0.2     \u001b[32m✔\u001b[39m \u001b[34mrsample     \u001b[39m 1.1.1\n",
      "\u001b[32m✔\u001b[39m \u001b[34mdials       \u001b[39m 1.1.0     \u001b[32m✔\u001b[39m \u001b[34mtune        \u001b[39m 1.0.1\n",
      "\u001b[32m✔\u001b[39m \u001b[34minfer       \u001b[39m 1.0.4     \u001b[32m✔\u001b[39m \u001b[34mworkflows   \u001b[39m 1.1.2\n",
      "\u001b[32m✔\u001b[39m \u001b[34mmodeldata   \u001b[39m 1.0.1     \u001b[32m✔\u001b[39m \u001b[34mworkflowsets\u001b[39m 1.0.0\n",
      "\u001b[32m✔\u001b[39m \u001b[34mparsnip     \u001b[39m 1.0.3     \u001b[32m✔\u001b[39m \u001b[34myardstick   \u001b[39m 1.1.0\n",
      "\u001b[32m✔\u001b[39m \u001b[34mrecipes     \u001b[39m 1.0.4     \n",
      "\n",
      "── \u001b[1mConflicts\u001b[22m ───────────────────────────────────────── tidymodels_conflicts() ──\n",
      "\u001b[31m✖\u001b[39m \u001b[34mscales\u001b[39m::\u001b[32mdiscard()\u001b[39m masks \u001b[34mpurrr\u001b[39m::discard()\n",
      "\u001b[31m✖\u001b[39m \u001b[34mdplyr\u001b[39m::\u001b[32mfilter()\u001b[39m   masks \u001b[34mstats\u001b[39m::filter()\n",
      "\u001b[31m✖\u001b[39m \u001b[34mrecipes\u001b[39m::\u001b[32mfixed()\u001b[39m  masks \u001b[34mstringr\u001b[39m::fixed()\n",
      "\u001b[31m✖\u001b[39m \u001b[34mdplyr\u001b[39m::\u001b[32mlag()\u001b[39m      masks \u001b[34mstats\u001b[39m::lag()\n",
      "\u001b[31m✖\u001b[39m \u001b[34myardstick\u001b[39m::\u001b[32mspec()\u001b[39m masks \u001b[34mreadr\u001b[39m::spec()\n",
      "\u001b[31m✖\u001b[39m \u001b[34mrecipes\u001b[39m::\u001b[32mstep()\u001b[39m   masks \u001b[34mstats\u001b[39m::step()\n",
      "\u001b[34m•\u001b[39m Use suppressPackageStartupMessages() to eliminate package startup messages\n",
      "\n",
      "Updating HTML index of packages in '.Library'\n",
      "\n",
      "Making 'packages.html' ...\n",
      " done\n",
      "\n",
      "Updating HTML index of packages in '.Library'\n",
      "\n",
      "Making 'packages.html' ...\n",
      " done\n",
      "\n",
      "Registered S3 method overwritten by 'GGally':\n",
      "  method from   \n",
      "  +.gg   ggplot2\n",
      "\n"
     ]
    }
   ],
   "source": [
    "library(tidyverse)\n",
    "library(tidymodels)\n",
    "install.packages(\"kknn\")\n",
    "install.packages(\"GGally\")\n",
    "library(kknn)\n",
    "set.seed(3)\n",
    "library(GGally)"
   ]
  },
  {
   "cell_type": "code",
   "execution_count": 2,
   "id": "41d80ae2-f324-496a-a8ea-378eb130cb56",
   "metadata": {
    "tags": []
   },
   "outputs": [],
   "source": [
    "set.seed(3)"
   ]
  },
  {
   "cell_type": "markdown",
   "id": "ec63d32c-97f2-43f5-9959-1e83759fc3be",
   "metadata": {},
   "source": [
    "Group members: Jiaming Chang, Charmaine Ma, Ewan Painter, Yang Wang"
   ]
  },
  {
   "cell_type": "markdown",
   "id": "8da6b276-8990-4aad-994d-9a74e015db6a",
   "metadata": {},
   "source": [
    "Introduction"
   ]
  },
  {
   "cell_type": "markdown",
   "id": "c6f6b30a-87b0-4171-9ac2-afcda01e80bc",
   "metadata": {},
   "source": [
    "This project focuses on Men's College Basketball in the US, specifically pertaining to the NCAA tournament or March Madness. This tournament is interesting to study because of its high variance compared to other major sports. Its variance can be attributed to two major factors. Firstly, the tournament draws its pool of 68 teams from the current 363 Division I schools. Many top teams never play each other in their season leading up to the tournament. Some top teams that gain entry into the tournament by winning a smaller conference championship and never play any top team in their season. Due to this, it becomes difficult to evaluate the relative strength of teams and predict individual matchups. The second factor that makes matchups difficult to predict is that each round of the tournament is a best of 1 (in comparison, professional basketball playoff series are a best of 7), further enabling upsets and unpredictability. Our project will test how truly random these results are, or if a common theme can be established amongst successful teams in the tournament. Our dataset includes comprehensive statistics for all NCAA tournament teams from 2013 to 2021 as well as their seed in the tournament and the round of the tournament they reached."
   ]
  },
  {
   "cell_type": "markdown",
   "id": "d164fa94-b93f-4601-ae45-06253980c382",
   "metadata": {},
   "source": [
    "Preliminary Data Analysis"
   ]
  },
  {
   "cell_type": "code",
   "execution_count": 3,
   "id": "ccff3674-b605-4a42-9099-88a59c5cfbf6",
   "metadata": {
    "tags": []
   },
   "outputs": [
    {
     "name": "stderr",
     "output_type": "stream",
     "text": [
      "\u001b[1mRows: \u001b[22m\u001b[34m3523\u001b[39m \u001b[1mColumns: \u001b[22m\u001b[34m24\u001b[39m\n",
      "\u001b[36m──\u001b[39m \u001b[1mColumn specification\u001b[22m \u001b[36m────────────────────────────────────────────────────────\u001b[39m\n",
      "\u001b[1mDelimiter:\u001b[22m \",\"\n",
      "\u001b[31mchr\u001b[39m  (4): TEAM, CONF, POSTSEASON, SEED\n",
      "\u001b[32mdbl\u001b[39m (20): G, W, ADJOE, ADJDE, BARTHAG, EFG_O, EFG_D, TOR, TORD, ORB, DRB, FT...\n",
      "\n",
      "\u001b[36mℹ\u001b[39m Use `spec()` to retrieve the full column specification for this data.\n",
      "\u001b[36mℹ\u001b[39m Specify the column types or set `show_col_types = FALSE` to quiet this message.\n"
     ]
    },
    {
     "data": {
      "text/html": [
       "<table class=\"dataframe\">\n",
       "<caption>A tibble: 3 × 24</caption>\n",
       "<thead>\n",
       "\t<tr><th scope=col>TEAM</th><th scope=col>CONF</th><th scope=col>G</th><th scope=col>W</th><th scope=col>ADJOE</th><th scope=col>ADJDE</th><th scope=col>BARTHAG</th><th scope=col>EFG_O</th><th scope=col>EFG_D</th><th scope=col>TOR</th><th scope=col>⋯</th><th scope=col>FTRD</th><th scope=col>2P_O</th><th scope=col>2P_D</th><th scope=col>3P_O</th><th scope=col>3P_D</th><th scope=col>ADJ_T</th><th scope=col>WAB</th><th scope=col>POSTSEASON</th><th scope=col>SEED</th><th scope=col>YEAR</th></tr>\n",
       "\t<tr><th scope=col>&lt;chr&gt;</th><th scope=col>&lt;chr&gt;</th><th scope=col>&lt;dbl&gt;</th><th scope=col>&lt;dbl&gt;</th><th scope=col>&lt;dbl&gt;</th><th scope=col>&lt;dbl&gt;</th><th scope=col>&lt;dbl&gt;</th><th scope=col>&lt;dbl&gt;</th><th scope=col>&lt;dbl&gt;</th><th scope=col>&lt;dbl&gt;</th><th scope=col>⋯</th><th scope=col>&lt;dbl&gt;</th><th scope=col>&lt;dbl&gt;</th><th scope=col>&lt;dbl&gt;</th><th scope=col>&lt;dbl&gt;</th><th scope=col>&lt;dbl&gt;</th><th scope=col>&lt;dbl&gt;</th><th scope=col>&lt;dbl&gt;</th><th scope=col>&lt;chr&gt;</th><th scope=col>&lt;chr&gt;</th><th scope=col>&lt;dbl&gt;</th></tr>\n",
       "</thead>\n",
       "<tbody>\n",
       "\t<tr><td>North Carolina</td><td>ACC</td><td>40</td><td>33</td><td>123.3</td><td>94.9</td><td>0.9531</td><td>52.6</td><td>48.1</td><td>15.4</td><td>⋯</td><td>30.4</td><td>53.9</td><td>44.6</td><td>32.7</td><td>36.2</td><td>71.7</td><td> 8.6</td><td>2ND</td><td>1</td><td>2016</td></tr>\n",
       "\t<tr><td>Wisconsin     </td><td>B10</td><td>40</td><td>36</td><td>129.1</td><td>93.6</td><td>0.9758</td><td>54.8</td><td>47.7</td><td>12.4</td><td>⋯</td><td>22.4</td><td>54.8</td><td>44.7</td><td>36.5</td><td>37.5</td><td>59.3</td><td>11.3</td><td>2ND</td><td>1</td><td>2015</td></tr>\n",
       "\t<tr><td>Michigan      </td><td>B10</td><td>40</td><td>33</td><td>114.4</td><td>90.4</td><td>0.9375</td><td>53.9</td><td>47.7</td><td>14.0</td><td>⋯</td><td>30.0</td><td>54.7</td><td>46.8</td><td>35.2</td><td>33.2</td><td>65.9</td><td> 6.9</td><td>2ND</td><td>3</td><td>2018</td></tr>\n",
       "</tbody>\n",
       "</table>\n"
      ],
      "text/latex": [
       "A tibble: 3 × 24\n",
       "\\begin{tabular}{lllllllllllllllllllll}\n",
       " TEAM & CONF & G & W & ADJOE & ADJDE & BARTHAG & EFG\\_O & EFG\\_D & TOR & ⋯ & FTRD & 2P\\_O & 2P\\_D & 3P\\_O & 3P\\_D & ADJ\\_T & WAB & POSTSEASON & SEED & YEAR\\\\\n",
       " <chr> & <chr> & <dbl> & <dbl> & <dbl> & <dbl> & <dbl> & <dbl> & <dbl> & <dbl> & ⋯ & <dbl> & <dbl> & <dbl> & <dbl> & <dbl> & <dbl> & <dbl> & <chr> & <chr> & <dbl>\\\\\n",
       "\\hline\n",
       "\t North Carolina & ACC & 40 & 33 & 123.3 & 94.9 & 0.9531 & 52.6 & 48.1 & 15.4 & ⋯ & 30.4 & 53.9 & 44.6 & 32.7 & 36.2 & 71.7 &  8.6 & 2ND & 1 & 2016\\\\\n",
       "\t Wisconsin      & B10 & 40 & 36 & 129.1 & 93.6 & 0.9758 & 54.8 & 47.7 & 12.4 & ⋯ & 22.4 & 54.8 & 44.7 & 36.5 & 37.5 & 59.3 & 11.3 & 2ND & 1 & 2015\\\\\n",
       "\t Michigan       & B10 & 40 & 33 & 114.4 & 90.4 & 0.9375 & 53.9 & 47.7 & 14.0 & ⋯ & 30.0 & 54.7 & 46.8 & 35.2 & 33.2 & 65.9 &  6.9 & 2ND & 3 & 2018\\\\\n",
       "\\end{tabular}\n"
      ],
      "text/markdown": [
       "\n",
       "A tibble: 3 × 24\n",
       "\n",
       "| TEAM &lt;chr&gt; | CONF &lt;chr&gt; | G &lt;dbl&gt; | W &lt;dbl&gt; | ADJOE &lt;dbl&gt; | ADJDE &lt;dbl&gt; | BARTHAG &lt;dbl&gt; | EFG_O &lt;dbl&gt; | EFG_D &lt;dbl&gt; | TOR &lt;dbl&gt; | ⋯ ⋯ | FTRD &lt;dbl&gt; | 2P_O &lt;dbl&gt; | 2P_D &lt;dbl&gt; | 3P_O &lt;dbl&gt; | 3P_D &lt;dbl&gt; | ADJ_T &lt;dbl&gt; | WAB &lt;dbl&gt; | POSTSEASON &lt;chr&gt; | SEED &lt;chr&gt; | YEAR &lt;dbl&gt; |\n",
       "|---|---|---|---|---|---|---|---|---|---|---|---|---|---|---|---|---|---|---|---|---|\n",
       "| North Carolina | ACC | 40 | 33 | 123.3 | 94.9 | 0.9531 | 52.6 | 48.1 | 15.4 | ⋯ | 30.4 | 53.9 | 44.6 | 32.7 | 36.2 | 71.7 |  8.6 | 2ND | 1 | 2016 |\n",
       "| Wisconsin      | B10 | 40 | 36 | 129.1 | 93.6 | 0.9758 | 54.8 | 47.7 | 12.4 | ⋯ | 22.4 | 54.8 | 44.7 | 36.5 | 37.5 | 59.3 | 11.3 | 2ND | 1 | 2015 |\n",
       "| Michigan       | B10 | 40 | 33 | 114.4 | 90.4 | 0.9375 | 53.9 | 47.7 | 14.0 | ⋯ | 30.0 | 54.7 | 46.8 | 35.2 | 33.2 | 65.9 |  6.9 | 2ND | 3 | 2018 |\n",
       "\n"
      ],
      "text/plain": [
       "  TEAM           CONF G  W  ADJOE ADJDE BARTHAG EFG_O EFG_D TOR  ⋯ FTRD 2P_O\n",
       "1 North Carolina ACC  40 33 123.3 94.9  0.9531  52.6  48.1  15.4 ⋯ 30.4 53.9\n",
       "2 Wisconsin      B10  40 36 129.1 93.6  0.9758  54.8  47.7  12.4 ⋯ 22.4 54.8\n",
       "3 Michigan       B10  40 33 114.4 90.4  0.9375  53.9  47.7  14.0 ⋯ 30.0 54.7\n",
       "  2P_D 3P_O 3P_D ADJ_T WAB  POSTSEASON SEED YEAR\n",
       "1 44.6 32.7 36.2 71.7   8.6 2ND        1    2016\n",
       "2 44.7 36.5 37.5 59.3  11.3 2ND        1    2015\n",
       "3 46.8 35.2 33.2 65.9   6.9 2ND        3    2018"
      ]
     },
     "metadata": {},
     "output_type": "display_data"
    }
   ],
   "source": [
    "cbb <- read_csv(\"https://raw.githubusercontent.com/naw333/College-Basketball-Data-Science/main/cbb.csv\")\n",
    "head(cbb,n=3)"
   ]
  },
  {
   "cell_type": "code",
   "execution_count": 7,
   "id": "09bdfef5-75d5-4c0f-9c0d-8e0fec1443c1",
   "metadata": {
    "tags": []
   },
   "outputs": [],
   "source": [
    "cbb_split <- initial_split(cbb, prop = 0.75, strata = POSTSEASON)\n",
    "cbb_train <- training(cbb_split)\n",
    "cbb_test <- testing(cbb_split)"
   ]
  },
  {
   "cell_type": "code",
   "execution_count": 8,
   "id": "424a87a4-b4d4-407f-9cdb-9b6be3c286fc",
   "metadata": {
    "tags": []
   },
   "outputs": [
    {
     "data": {
      "text/html": [
       "<table class=\"dataframe\">\n",
       "<caption>A tibble: 1 × 7</caption>\n",
       "<thead>\n",
       "\t<tr><th scope=col>team_count</th><th scope=col>mean_ADJOE</th><th scope=col>mean_ADJDE</th><th scope=col>mean_ADJ_T</th><th scope=col>mean_ORB</th><th scope=col>mean_TOR</th><th scope=col>mean_W</th></tr>\n",
       "\t<tr><th scope=col>&lt;int&gt;</th><th scope=col>&lt;dbl&gt;</th><th scope=col>&lt;dbl&gt;</th><th scope=col>&lt;dbl&gt;</th><th scope=col>&lt;dbl&gt;</th><th scope=col>&lt;dbl&gt;</th><th scope=col>&lt;dbl&gt;</th></tr>\n",
       "</thead>\n",
       "<tbody>\n",
       "\t<tr><td>2642</td><td>103.0669</td><td>103.1858</td><td>67.74576</td><td>29.30776</td><td>18.71363</td><td>15.89175</td></tr>\n",
       "</tbody>\n",
       "</table>\n"
      ],
      "text/latex": [
       "A tibble: 1 × 7\n",
       "\\begin{tabular}{lllllll}\n",
       " team\\_count & mean\\_ADJOE & mean\\_ADJDE & mean\\_ADJ\\_T & mean\\_ORB & mean\\_TOR & mean\\_W\\\\\n",
       " <int> & <dbl> & <dbl> & <dbl> & <dbl> & <dbl> & <dbl>\\\\\n",
       "\\hline\n",
       "\t 2642 & 103.0669 & 103.1858 & 67.74576 & 29.30776 & 18.71363 & 15.89175\\\\\n",
       "\\end{tabular}\n"
      ],
      "text/markdown": [
       "\n",
       "A tibble: 1 × 7\n",
       "\n",
       "| team_count &lt;int&gt; | mean_ADJOE &lt;dbl&gt; | mean_ADJDE &lt;dbl&gt; | mean_ADJ_T &lt;dbl&gt; | mean_ORB &lt;dbl&gt; | mean_TOR &lt;dbl&gt; | mean_W &lt;dbl&gt; |\n",
       "|---|---|---|---|---|---|---|\n",
       "| 2642 | 103.0669 | 103.1858 | 67.74576 | 29.30776 | 18.71363 | 15.89175 |\n",
       "\n"
      ],
      "text/plain": [
       "  team_count mean_ADJOE mean_ADJDE mean_ADJ_T mean_ORB mean_TOR mean_W  \n",
       "1 2642       103.0669   103.1858   67.74576   29.30776 18.71363 15.89175"
      ]
     },
     "metadata": {},
     "output_type": "display_data"
    }
   ],
   "source": [
    "## Table shows number of teams in the dataset as well as averages for important metrics.\n",
    "\n",
    "cbb_summ <- summarize(cbb_train, team_count = nrow(cbb_train), mean_ADJOE = mean(ADJOE), mean_ADJDE = mean(ADJDE), mean_ADJ_T = mean(ADJ_T), mean_ORB = mean(ORB), mean_TOR = mean(TOR), mean_W = mean(W))\n",
    "cbb_summ"
   ]
  },
  {
   "cell_type": "code",
   "execution_count": 14,
   "id": "c11c6e67-b446-457a-b8b7-078dfcb0dfc9",
   "metadata": {
    "tags": []
   },
   "outputs": [
    {
     "data": {
      "text/html": [
       "<table class=\"dataframe\">\n",
       "<caption>A tibble: 6 × 14</caption>\n",
       "<thead>\n",
       "\t<tr><th scope=col>TEAM</th><th scope=col>PERC</th><th scope=col>ADJOE</th><th scope=col>ADJDE</th><th scope=col>EFG_O</th><th scope=col>TOR</th><th scope=col>TORD</th><th scope=col>ORB</th><th scope=col>FTR</th><th scope=col>2P_D</th><th scope=col>3P_D</th><th scope=col>ADJ_T</th><th scope=col>POSTSEASON</th><th scope=col>YEAR</th></tr>\n",
       "\t<tr><th scope=col>&lt;fct&gt;</th><th scope=col>&lt;dbl&gt;</th><th scope=col>&lt;dbl&gt;</th><th scope=col>&lt;dbl&gt;</th><th scope=col>&lt;dbl&gt;</th><th scope=col>&lt;dbl&gt;</th><th scope=col>&lt;dbl&gt;</th><th scope=col>&lt;dbl&gt;</th><th scope=col>&lt;dbl&gt;</th><th scope=col>&lt;dbl&gt;</th><th scope=col>&lt;dbl&gt;</th><th scope=col>&lt;dbl&gt;</th><th scope=col>&lt;fct&gt;</th><th scope=col>&lt;dbl&gt;</th></tr>\n",
       "</thead>\n",
       "<tbody>\n",
       "\t<tr><td>North Carolina</td><td>0.8250000</td><td>123.3</td><td>94.9</td><td>52.6</td><td>15.4</td><td>18.2</td><td>40.7</td><td>32.3</td><td>44.6</td><td>36.2</td><td>71.7</td><td>2ND</td><td>2016</td></tr>\n",
       "\t<tr><td>Wisconsin     </td><td>0.9000000</td><td>129.1</td><td>93.6</td><td>54.8</td><td>12.4</td><td>15.8</td><td>32.1</td><td>36.2</td><td>44.7</td><td>37.5</td><td>59.3</td><td>2ND</td><td>2015</td></tr>\n",
       "\t<tr><td>Michigan      </td><td>0.8250000</td><td>114.4</td><td>90.4</td><td>53.9</td><td>14.0</td><td>19.5</td><td>25.5</td><td>30.7</td><td>46.8</td><td>33.2</td><td>65.9</td><td>2ND</td><td>2018</td></tr>\n",
       "\t<tr><td>Texas Tech    </td><td>0.8157895</td><td>115.2</td><td>85.2</td><td>53.5</td><td>17.7</td><td>22.8</td><td>27.4</td><td>32.9</td><td>41.9</td><td>29.7</td><td>67.5</td><td>2ND</td><td>2019</td></tr>\n",
       "\t<tr><td>Gonzaga       </td><td>0.9487179</td><td>117.8</td><td>86.3</td><td>56.6</td><td>16.2</td><td>17.1</td><td>30.0</td><td>39.0</td><td>40.0</td><td>29.0</td><td>71.5</td><td>2ND</td><td>2017</td></tr>\n",
       "\t<tr><td>Kentucky      </td><td>0.7250000</td><td>117.2</td><td>96.2</td><td>49.9</td><td>18.1</td><td>16.1</td><td>42.0</td><td>51.8</td><td>44.9</td><td>32.2</td><td>65.9</td><td>2ND</td><td>2014</td></tr>\n",
       "</tbody>\n",
       "</table>\n"
      ],
      "text/latex": [
       "A tibble: 6 × 14\n",
       "\\begin{tabular}{llllllllllllll}\n",
       " TEAM & PERC & ADJOE & ADJDE & EFG\\_O & TOR & TORD & ORB & FTR & 2P\\_D & 3P\\_D & ADJ\\_T & POSTSEASON & YEAR\\\\\n",
       " <fct> & <dbl> & <dbl> & <dbl> & <dbl> & <dbl> & <dbl> & <dbl> & <dbl> & <dbl> & <dbl> & <dbl> & <fct> & <dbl>\\\\\n",
       "\\hline\n",
       "\t North Carolina & 0.8250000 & 123.3 & 94.9 & 52.6 & 15.4 & 18.2 & 40.7 & 32.3 & 44.6 & 36.2 & 71.7 & 2ND & 2016\\\\\n",
       "\t Wisconsin      & 0.9000000 & 129.1 & 93.6 & 54.8 & 12.4 & 15.8 & 32.1 & 36.2 & 44.7 & 37.5 & 59.3 & 2ND & 2015\\\\\n",
       "\t Michigan       & 0.8250000 & 114.4 & 90.4 & 53.9 & 14.0 & 19.5 & 25.5 & 30.7 & 46.8 & 33.2 & 65.9 & 2ND & 2018\\\\\n",
       "\t Texas Tech     & 0.8157895 & 115.2 & 85.2 & 53.5 & 17.7 & 22.8 & 27.4 & 32.9 & 41.9 & 29.7 & 67.5 & 2ND & 2019\\\\\n",
       "\t Gonzaga        & 0.9487179 & 117.8 & 86.3 & 56.6 & 16.2 & 17.1 & 30.0 & 39.0 & 40.0 & 29.0 & 71.5 & 2ND & 2017\\\\\n",
       "\t Kentucky       & 0.7250000 & 117.2 & 96.2 & 49.9 & 18.1 & 16.1 & 42.0 & 51.8 & 44.9 & 32.2 & 65.9 & 2ND & 2014\\\\\n",
       "\\end{tabular}\n"
      ],
      "text/markdown": [
       "\n",
       "A tibble: 6 × 14\n",
       "\n",
       "| TEAM &lt;fct&gt; | PERC &lt;dbl&gt; | ADJOE &lt;dbl&gt; | ADJDE &lt;dbl&gt; | EFG_O &lt;dbl&gt; | TOR &lt;dbl&gt; | TORD &lt;dbl&gt; | ORB &lt;dbl&gt; | FTR &lt;dbl&gt; | 2P_D &lt;dbl&gt; | 3P_D &lt;dbl&gt; | ADJ_T &lt;dbl&gt; | POSTSEASON &lt;fct&gt; | YEAR &lt;dbl&gt; |\n",
       "|---|---|---|---|---|---|---|---|---|---|---|---|---|---|\n",
       "| North Carolina | 0.8250000 | 123.3 | 94.9 | 52.6 | 15.4 | 18.2 | 40.7 | 32.3 | 44.6 | 36.2 | 71.7 | 2ND | 2016 |\n",
       "| Wisconsin      | 0.9000000 | 129.1 | 93.6 | 54.8 | 12.4 | 15.8 | 32.1 | 36.2 | 44.7 | 37.5 | 59.3 | 2ND | 2015 |\n",
       "| Michigan       | 0.8250000 | 114.4 | 90.4 | 53.9 | 14.0 | 19.5 | 25.5 | 30.7 | 46.8 | 33.2 | 65.9 | 2ND | 2018 |\n",
       "| Texas Tech     | 0.8157895 | 115.2 | 85.2 | 53.5 | 17.7 | 22.8 | 27.4 | 32.9 | 41.9 | 29.7 | 67.5 | 2ND | 2019 |\n",
       "| Gonzaga        | 0.9487179 | 117.8 | 86.3 | 56.6 | 16.2 | 17.1 | 30.0 | 39.0 | 40.0 | 29.0 | 71.5 | 2ND | 2017 |\n",
       "| Kentucky       | 0.7250000 | 117.2 | 96.2 | 49.9 | 18.1 | 16.1 | 42.0 | 51.8 | 44.9 | 32.2 | 65.9 | 2ND | 2014 |\n",
       "\n"
      ],
      "text/plain": [
       "  TEAM           PERC      ADJOE ADJDE EFG_O TOR  TORD ORB  FTR  2P_D 3P_D\n",
       "1 North Carolina 0.8250000 123.3 94.9  52.6  15.4 18.2 40.7 32.3 44.6 36.2\n",
       "2 Wisconsin      0.9000000 129.1 93.6  54.8  12.4 15.8 32.1 36.2 44.7 37.5\n",
       "3 Michigan       0.8250000 114.4 90.4  53.9  14.0 19.5 25.5 30.7 46.8 33.2\n",
       "4 Texas Tech     0.8157895 115.2 85.2  53.5  17.7 22.8 27.4 32.9 41.9 29.7\n",
       "5 Gonzaga        0.9487179 117.8 86.3  56.6  16.2 17.1 30.0 39.0 40.0 29.0\n",
       "6 Kentucky       0.7250000 117.2 96.2  49.9  18.1 16.1 42.0 51.8 44.9 32.2\n",
       "  ADJ_T POSTSEASON YEAR\n",
       "1 71.7  2ND        2016\n",
       "2 59.3  2ND        2015\n",
       "3 65.9  2ND        2018\n",
       "4 67.5  2ND        2019\n",
       "5 71.5  2ND        2017\n",
       "6 65.9  2ND        2014"
      ]
     },
     "metadata": {},
     "output_type": "display_data"
    }
   ],
   "source": [
    "## Graph shows relationship between a team's regular season wins and its number of points scored per possession.\n",
    "## WAB |FTRD |BARTHAG |integrate G and W| DRB| 2P_O|  EFG_D |3P_O \n",
    "## group by year?\n",
    "## include seed if table not too big \n",
    "cbb_modified <- cbb|> filter(POSTSEASON != \"N/A\")|>mutate(PERC= W/G) |> mutate(POSTSEASON=as_factor(POSTSEASON))|> mutate(TEAM = as_factor(TEAM))\n",
    "\n",
    "cbb_short <- cbb_modified|> select(\n",
    "                          TEAM,\n",
    "                          PERC,\n",
    "                          ADJOE,\n",
    "                          ADJDE,\n",
    "                          EFG_O,\n",
    "                          TOR,\n",
    "                          TORD,\n",
    "                          ORB,\n",
    "                          FTR,\n",
    "                          `2P_D`,\n",
    "                          `3P_D`,\n",
    "                          ADJ_T,\n",
    "                          POSTSEASON,\n",
    "                          YEAR\n",
    "                          )\n",
    "head(cbb_short)\n",
    "# options(repr.plot.width=20, repr.plot.height=10)\n",
    "# cbb_testplot <- cbb_short |> ggplot(aes(x = PERC, y = POSTSEASON)) +  \n",
    "#                             geom_point() + \n",
    "#                             labs( x = \"PERC\", \n",
    "#                                   y = \"POSTSEASON\")\n",
    "# cbb_testplot"
   ]
  },
  {
   "cell_type": "markdown",
   "id": "a877c940-b0d7-4c8c-9ee6-a765b921310d",
   "metadata": {},
   "source": [
    "Methods"
   ]
  },
  {
   "cell_type": "markdown",
   "id": "f59b674a-1af8-4e37-9292-b46fc226a51a",
   "metadata": {},
   "source": [
    "To perform the data analysis, a K nearest neighbors classifier will be used to classify the team’s POSTSEASON (round where the observed team’s season ended) based on the predictor variables: ADJOE, ADJDE, ORB, 3P_O, ADJ_T, TOR, G, and W (Adjusted Offensive Efficiency, Adjusted Defensive Efficiency, Offensive Rebound Rate, Three-Point Shooting Percentage, Adjusted Tempo, Turnover Rate, Number of games played, and Number of games won respectively). The basketball data set is split into training and testing sets, which will be used to train the classifier and evaluate the classifier’s performance. The training set will be used to perform a 5-fold cross-validation to select the k value that optimizes the classifier’s performance based on the accuracy of the classifier. The performance of the classifier will be tested using the test set, then a new set of observations for basketball teams will be classified using the trained classifier. The correlation coefficient will be calculated between each predictor variable and POSTSEASON, and the result of this will be visualized as a bar graph."
   ]
  },
  {
   "cell_type": "code",
   "execution_count": null,
   "id": "72b040a7-65d5-403d-8f62-671351a2d4ac",
   "metadata": {},
   "outputs": [],
   "source": []
  },
  {
   "cell_type": "markdown",
   "id": "b3b9c2ea-33e6-4b98-97f0-5fb54b268825",
   "metadata": {},
   "source": [
    "Expected Outcomes"
   ]
  },
  {
   "cell_type": "markdown",
   "id": "d6d4560f-3c6d-4119-ab43-df26221f99c6",
   "metadata": {},
   "source": [
    "Generally, we expect strength in defensive variables to be a greater indicator of success as opposed to offensive variables.\n",
    "What impact could such findings have?\n",
    "Uncovering key metrics can guide team strategy and enhance analysts' tournament predictions.\n",
    "\n",
    "This research could lead up to the following future questions. \n",
    "-Individual Player Metrics: Can individual stats offer deeper insights into team strengths? \n",
    "-Match up Predictability: Can the classifier predict specific game outcomes, especially potential upsets? \n",
    "-Metric Evolution: As basketball evolves, how does the significance of certain metrics change? \n",
    "-External Factors: What other factors, like morale or injuries, influence success, and can they be incorporated for improved predictions?"
   ]
  },
  {
   "cell_type": "code",
   "execution_count": null,
   "id": "ea93da23-a257-4973-9f85-e18313826db9",
   "metadata": {},
   "outputs": [],
   "source": []
  }
 ],
 "metadata": {
  "kernelspec": {
   "display_name": "R",
   "language": "R",
   "name": "ir"
  },
  "language_info": {
   "codemirror_mode": "r",
   "file_extension": ".r",
   "mimetype": "text/x-r-source",
   "name": "R",
   "pygments_lexer": "r",
   "version": "4.2.2"
  }
 },
 "nbformat": 4,
 "nbformat_minor": 5
}
