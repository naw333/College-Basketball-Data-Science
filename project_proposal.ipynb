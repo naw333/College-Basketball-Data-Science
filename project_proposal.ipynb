{
 "cells": [
  {
   "cell_type": "markdown",
   "id": "ec63d32c-97f2-43f5-9959-1e83759fc3be",
   "metadata": {},
   "source": [
    "Group members: Ewan Painter,"
   ]
  },
  {
   "cell_type": "markdown",
   "id": "8da6b276-8990-4aad-994d-9a74e015db6a",
   "metadata": {},
   "source": [
    "Introduction"
   ]
  },
  {
   "cell_type": "markdown",
   "id": "c6f6b30a-87b0-4171-9ac2-afcda01e80bc",
   "metadata": {},
   "source": [
    "This project focuses on Men's College Basketball in the US, specifically pertaining to the NCAA tournament or March Madness. This tournament is interesting to study because of its increased perceived variance compared to other major sport tournaments. This variance can be attributed to two major factors. Firstly, the tournament draws its pool of 68 teams from the current 363 Division I schools. Many top teams never play each other in their season leading up to the tournament. Some top teams that gain entry into the tournament by winning a smaller conference championship never play any top team in their season. Due to this, it becomes difficult to evaluate the relative strength of teams and predict matchups in the tournament. The second factor that makes matchups difficult to predict is that each round of the tournament is a best of 1 (in comparison, professional basketball playoff series are a best of 7). Upsets are further enabled by the fact that the better team will not always win in a best of 1 but rather the better team in that game. Our project will seek to test this purported randomness of the NCAA tournament by looking for common themes amongst winning teams in the tournament. Our dataset includes comprehensive statistics for all NCAA tournament teams from 2013 to 2021 as well as their seed in the tournament and the round of the tournament they reached."
   ]
  },
  {
   "cell_type": "markdown",
   "id": "d164fa94-b93f-4601-ae45-06253980c382",
   "metadata": {},
   "source": [
    "Preliminary Data Analysis"
   ]
  },
  {
   "cell_type": "code",
   "execution_count": null,
   "id": "ccff3674-b605-4a42-9099-88a59c5cfbf6",
   "metadata": {},
   "outputs": [],
   "source": []
  },
  {
   "cell_type": "markdown",
   "id": "a877c940-b0d7-4c8c-9ee6-a765b921310d",
   "metadata": {},
   "source": [
    "Methods"
   ]
  },
  {
   "cell_type": "code",
   "execution_count": null,
   "id": "4b2c6501-3325-4897-981d-38ee6c70660d",
   "metadata": {},
   "outputs": [],
   "source": []
  },
  {
   "cell_type": "code",
   "execution_count": null,
   "id": "ab39a242-e521-453a-9cc5-9aefa3cc4a2a",
   "metadata": {},
   "outputs": [],
   "source": [
    "Expected "
   ]
  }
 ],
 "metadata": {
  "kernelspec": {
   "display_name": "R",
   "language": "R",
   "name": "ir"
  },
  "language_info": {
   "codemirror_mode": "r",
   "file_extension": ".r",
   "mimetype": "text/x-r-source",
   "name": "R",
   "pygments_lexer": "r",
   "version": "4.3.1"
  }
 },
 "nbformat": 4,
 "nbformat_minor": 5
}
