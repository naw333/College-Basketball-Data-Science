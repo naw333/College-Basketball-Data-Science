{
 "cells": [
  {
   "cell_type": "markdown",
   "id": "0956aa6b-18a1-45a4-8de4-df4082612a8e",
   "metadata": {},
   "source": [
    "# Predictive Analytics in NCAA Men's College Basketball: A Tournament Outcome Study"
   ]
  },
  {
   "cell_type": "markdown",
   "id": "c924210a-2697-4f78-931e-ff66996f3f5b",
   "metadata": {},
   "source": [
    "## 1. Introduction\n",
    "With the growing interest in the field of sports analytics, the NCAA Men's College Basketball Tournament offers a fertile ground for the application of predictive modeling, owing to its inherent unpredictability and the diverse range of participating teams.\n",
    "\n",
    "Hence, we aim to answer the following predictive question: \n",
    "\n",
    "> *Can we predict the POSTSEASON variable in our dataset based on our predictor variables?*\n",
    "\n",
    "In particular, we will focus on the **seasons 2013-2019**,and **seasons2021-2023 combined**. The 2020 season's data set is kept separate from the other seasons, because there was no postseason due to the Coronavirus."
   ]
  },
  {
   "cell_type": "markdown",
   "id": "09107f27-ae1b-4e05-b9b9-e88b2e47f1d7",
   "metadata": {
    "tags": []
   },
   "source": [
    "### Dataset Description\n",
    "We will be using the *College Basketball Dataset* dataset by ANDREW SUNDBERG, available on Kaggle<sup>[1]</sup>. encapsulates key statistical measures for NCAA Men's College Basketball teams over the seasons spanning from 2013 to 2021. The dataset is comprehensive, with variables that reflect various aspects of basketball performance and are believed to be potential indicators of a team's success in the postseason. Below, we present a full list of the variables included in our analysis:\n",
    "\n",
    "| Variable                                                  | Unit                         | Description                                                                   |\n",
    "|-----------------------------------------------------------|------------------------------|-------------------------------------------------------------------------------|\n",
    "| `POSTSEASON`                                              | N/A                          | Round where the given team was eliminated or where their season ended         |\n",
    "| `PERC`                                                    | %                            | Number of games won / Number of play                                             \n",
    "| `G`                                                       | round                        | Number of play                                                                |\n",
    "| `W`                                                       | round                        | Number of games won                                                           |\n",
    "| `ADJOE`                                                   | Points/100 possessions                           | Adjusted Offensive Efficiency (An estimate of the offensive efficiency (points scored per 100 possessions) a team would have against the average Division I defense)                                                                   |\n",
    "| `ADJDE`                                                   | Points/100 possessions                           |  Adjusted Defensive Efficiency (An estimate of the defensive efficiency (points allowed per 100 possessions) a team would have against the average Division I offense)                                                                  |\n",
    "| `BARTHAG`                                                 | Probability                  | Power Rating (Chance of beating an average Division I team                    |\n",
    "| `ORB`                                                     | rebounds/game                | Offensive Rebound Rate                                                        |\n",
    "| `DRB`                                                     | rebounds/game                | Offensive Rebound Rate Allowed                                                |\n",
    "| `TOR`                                                     | Rate                         | Turnover Percentage Allowed (Turnover Rate)                                   |\n",
    "| `EFG_O`                                                   | %                            | Effective Field Goal Percentage Shot                                          |\n",
    "| `EFG_D`                                                   | %                            | Effective Field Goal Percentage Allowed                                       |\n",
    "| `FTR`                                                     | Rate                         | Free Throw Rate (How often the given team shoots Free Throws)                 |"
   ]
  },
  {
   "cell_type": "markdown",
   "id": "e2cd58b2-2318-482c-97a6-74904130ead0",
   "metadata": {
    "tags": []
   },
   "source": [
    "<b><p><center>Figure 1.1: Variable Units and Explanation </center></p></b>"
   ]
  },
  {
   "cell_type": "code",
   "execution_count": null,
   "id": "062dc7a7-ab08-451b-8a80-8e799dc209b7",
   "metadata": {},
   "outputs": [],
   "source": []
  }
 ],
 "metadata": {
  "kernelspec": {
   "display_name": "R",
   "language": "R",
   "name": "ir"
  },
  "language_info": {
   "codemirror_mode": "r",
   "file_extension": ".r",
   "mimetype": "text/x-r-source",
   "name": "R",
   "pygments_lexer": "r",
   "version": "4.2.2"
  }
 },
 "nbformat": 4,
 "nbformat_minor": 5
}
